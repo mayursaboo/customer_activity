{
 "cells": [
  {
   "cell_type": "code",
   "execution_count": 1,
   "metadata": {},
   "outputs": [
    {
     "name": "stdout",
     "output_type": "stream",
     "text": [
      "Starting Spark application\n"
     ]
    },
    {
     "data": {
      "text/html": [
       "<table>\n",
       "<tr><th>ID</th><th>YARN Application ID</th><th>Kind</th><th>State</th><th>Spark UI</th><th>Driver log</th><th>Current session?</th></tr><tr><td>317</td><td>None</td><td>pyspark</td><td>idle</td><td></td><td></td><td>✔</td></tr></table>"
      ],
      "text/plain": [
       "<IPython.core.display.HTML object>"
      ]
     },
     "metadata": {},
     "output_type": "display_data"
    },
    {
     "data": {
      "application/vnd.jupyter.widget-view+json": {
       "model_id": "",
       "version_major": 2,
       "version_minor": 0
      },
      "text/plain": [
       "FloatProgress(value=0.0, bar_style='info', description='Progress:', layout=Layout(height='25px', width='50%'),…"
      ]
     },
     "metadata": {},
     "output_type": "display_data"
    },
    {
     "name": "stdout",
     "output_type": "stream",
     "text": [
      "SparkSession available as 'spark'.\n"
     ]
    },
    {
     "data": {
      "application/vnd.jupyter.widget-view+json": {
       "model_id": "",
       "version_major": 2,
       "version_minor": 0
      },
      "text/plain": [
       "FloatProgress(value=0.0, bar_style='info', description='Progress:', layout=Layout(height='25px', width='50%'),…"
      ]
     },
     "metadata": {},
     "output_type": "display_data"
    },
    {
     "name": "stdout",
     "output_type": "stream",
     "text": [
      "JOB NAME = Mayur:Activity_8_Outbound_Call_Service\n",
      "No_of_cpu=8\n",
      "Max_cores=8\n",
      "Executor_mem=56g"
     ]
    }
   ],
   "source": [
    "import sys\n",
    "\n",
    "# runtype = \"daily\"\n",
    "# report_date = \"2021-02-28\" #automated\n",
    "\n",
    "no_of_cpu = 8\n",
    "max_cores = 8\n",
    "executor_mem = '56g'\n",
    "\n",
    "\n",
    "Job_Name = 'Mayur:Activity_8_Outbound_Call_Service'\n",
    "\n",
    "\n",
    "# print \"JOB NAME = \"+str(Job_Name)\n",
    "# print \"No_of_cpu=\"+str(no_of_cpu)\n",
    "# print \"Max_cores=\"+str(max_cores)\n",
    "# print \"Executor_mem=\"+str(executor_mem)\n",
    "# print \"Runtype=\"+str(runtype)\n",
    "# print \"Report_date=\"+str(report_date)\n",
    "\n",
    "\n",
    "print (\"JOB NAME = \"+str(Job_Name))\n",
    "print (\"No_of_cpu=\"+str(no_of_cpu))\n",
    "print (\"Max_cores=\"+str(max_cores))\n",
    "print (\"Executor_mem=\"+str(executor_mem))\n",
    "# print (\"Runtype=\"+str(runtype))\n",
    "# print (\"Report_date=\"+str(report_date))\n",
    "\n",
    "\n",
    "from pyspark.mllib.stat import Statistics\n",
    "from pyspark.sql.functions import asc,lit\n",
    "#warnings.filterwarnings('error')\n",
    "import pyspark\n",
    "from datetime import datetime,timedelta\n",
    "from pyspark.sql import SQLContext\n",
    "from pyspark import SparkContext, SparkConf\n",
    "from pyspark.sql import functions as F\n",
    "\n",
    "conf = pyspark.SparkConf()\n",
    "#import numpy\n",
    "import calendar\n",
    "#import pandas as pd\n",
    "#import simplejson as json\n",
    "#import pandas as pd\n",
    "import numpy as np\n",
    "import datetime\n",
    "from pyspark.sql.functions import *\n",
    "from pyspark.sql.types import DateType\n",
    "from pyspark.sql.functions import lit\n",
    "import simplejson as json\n",
    "import json, pprint, requests\n",
    "#es_nodes = '10.35.12.5'\n",
    "#es_nodes = '10.35.12.6'\n",
    "# es_nodes = '10.35.12.194'#,10.35.12.6,10.35.12.5\n",
    "# es_nodes_temp='10.35.12.194'\n",
    "# es_port = '5432'\n",
    "# es_user = 'gpanalytics'\n",
    "# es_pwd = ''\n",
    "mesos_ip = 'mesos://10.33.195.18:5050'#'mesos://10.35.12.5:5050'\n",
    "spark.stop() #############NEED TO COMMENT THIS SPARK.STOP WHEN RUNNING THROUGH SHELL###############################\n",
    "conf.setMaster(mesos_ip)\n",
    "\n",
    "conf.set('spark.executor.cores',no_of_cpu) ### change 1\n",
    "#conf.set('spark.memory.fraction','.2')\n",
    "conf.set('spark.executor.memory',executor_mem) \n",
    "conf.set('spark.es.scroll.size','10000')\n",
    "conf.set('spark.network.timeout','600s')\n",
    "conf.set('spark.sql.crossJoin.enabled', 'true')\n",
    "conf.set('spark.sql.join.preferSortMergeJoin','true')\n",
    "\n",
    "conf.set('spark.ui.port','4052')\n",
    "\n",
    "conf.set('spark.executor.heartbeatInterval','60s')\n",
    "conf.set(\"spark.driver.cores\",\"4\")\n",
    "conf.set(\"spark.driver.extraJavaOptions\",\"-Xmx4g -Xms4g\")\n",
    "\n",
    "#conf.set(\"spark.shuffle.blockTransferService\", \"nio\"); \n",
    "conf.set(\"spark.files.overwrite\",\"true\");\n",
    "conf.set(\"spark.kryoserializer.buffer\", \"70\"); \n",
    "conf.set(\"spark.driver.extraJavaOptions\", \"-XX:+UseG1GC\");\n",
    "conf.set(\"spark.executor.extraJavaOptions\", \"-XX:+UseG1GC\");\n",
    "conf.set(\"spark.serializer\", \"org.apache.spark.serializer.KryoSerializer\"); \n",
    "#conf.set(\"spark.broadcast.compress\", \"true\"); \n",
    "conf.set(\"spark.shuffle.compress\", \"true\"); \n",
    "conf.set(\"spark.shuffle.spill.compress\", \"true\");\n",
    "conf.set(\"spark.app.name\", Job_Name)\n",
    "#conf.set(\"spark.io.compression.codec\",\"org.apache.spark.io.LZ4CompressionCodec\");\n",
    "#conf.set(\"spark.sql.inMemoryColumnarStorage.compressed\", \"true\"); \n",
    "from pyspark.sql.functions import broadcast\n",
    "\n",
    "conf.set('spark.driver.memory','20g') ### change 2\n",
    "conf.set('spark.cores.max',max_cores) ### change 3\n",
    "conf.set('spark.sql.shuffle.partitions','400')\n",
    "#conf.set('spark.sql.crossJoin.enabled', 'true')\n",
    "# conf.set('es.nodes',es_nodes)\n",
    "# conf.set('es.port',es_port)\n",
    "# conf.set('es.nodes.wan.only','true')\n",
    "conf.set(\"spark.sql.autoBroadcastJoinThreshold\",-1)\n",
    "\n",
    "#conf.set('spark.es.net.http.auth.user','Spark')\n",
    "#conf.set('spark.es.net.http.auth.pass','Jarkpet1Sap3')\n",
    "conf.set('spark.num.executors','4')\n",
    "\n",
    "# conf.set('spark.es.net.http.auth.user', es_user)\n",
    "# conf.set('spark.es.net.http.auth.pass', es_pwd)\n",
    "\n",
    "conf.set('spark.es.mapping.date.rich','false')\n",
    "spark = pyspark.SparkContext(conf=conf)\n",
    "sqlContext = SQLContext(spark)\n",
    "\n",
    "# Load Data into PySpark DataFrames\n",
    "# Prodcom Data Frame\n",
    "import json, pprint, requests\n",
    "import pyspark.sql.functions as sf\n",
    "from pyspark.sql.types import *"
   ]
  },
  {
   "cell_type": "code",
   "execution_count": 2,
   "metadata": {},
   "outputs": [
    {
     "data": {
      "application/vnd.jupyter.widget-view+json": {
       "model_id": "",
       "version_major": 2,
       "version_minor": 0
      },
      "text/plain": [
       "FloatProgress(value=0.0, bar_style='info', description='Progress:', layout=Layout(height='25px', width='50%'),…"
      ]
     },
     "metadata": {},
     "output_type": "display_data"
    },
    {
     "name": "stdout",
     "output_type": "stream",
     "text": [
      "'2022-12-17 15:18:45.835912'"
     ]
    }
   ],
   "source": [
    "from pyspark.sql.functions import hash\n",
    "import numpy as np\n",
    "import datetime\n",
    "from pyspark.sql.functions import *\n",
    "from pyspark.sql.types import DateType\n",
    "import psycopg2\n",
    "import time\n",
    "from time import gmtime, strftime\n",
    "import pytz\n",
    "starttime = time.time()\n",
    "start_time = datetime.datetime.now(pytz.timezone('Asia/Kolkata')).strftime(\"%Y-%m-%d %H:%M:%S.%f\")\n",
    "start_time"
   ]
  },
  {
   "cell_type": "code",
   "execution_count": 3,
   "metadata": {},
   "outputs": [
    {
     "data": {
      "application/vnd.jupyter.widget-view+json": {
       "model_id": "",
       "version_major": 2,
       "version_minor": 0
      },
      "text/plain": [
       "FloatProgress(value=0.0, bar_style='info', description='Progress:', layout=Layout(height='25px', width='50%'),…"
      ]
     },
     "metadata": {},
     "output_type": "display_data"
    }
   ],
   "source": [
    "\n",
    "prod_url = \"jdbc:postgresql://10.35.12.194:5432/gpadmin\"\n",
    "prod_host = '10.35.12.194'\n",
    "prod_port = '5432'\n",
    "prod_dbname = 'gpadmin'\n",
    "user_prod=\"gpspark\"\n",
    "pwd_prod=\"spark@456\"\n",
    "dbschema=\"public\"\n",
    "\n",
    "\n",
    "prod_gpdb_spark_options ={\n",
    "    \"url\": \"jdbc:postgresql://{host}:{port}/{dbname}\".format(host=prod_host,port=prod_port, dbname=prod_dbname),\n",
    "    \"user\": \"{user}\".format(user=user_prod),\n",
    "    \"password\": \"{password}\".format(password=pwd_prod)\n",
    "} \n",
    "\n",
    "# Define the GPDB-Python connection options for PROD \n",
    "import psycopg2\n",
    "import datetime\n",
    "conn_prod = psycopg2.connect(host=prod_host, port=prod_port, user=user_prod, password=pwd_prod, dbname=prod_dbname)\n"
   ]
  },
  {
   "cell_type": "code",
   "execution_count": 4,
   "metadata": {},
   "outputs": [
    {
     "data": {
      "application/vnd.jupyter.widget-view+json": {
       "model_id": "",
       "version_major": 2,
       "version_minor": 0
      },
      "text/plain": [
       "FloatProgress(value=0.0, bar_style='info', description='Progress:', layout=Layout(height='25px', width='50%'),…"
      ]
     },
     "metadata": {},
     "output_type": "display_data"
    }
   ],
   "source": [
    "def load_gpdb_jdbc(col_str,dbtable,col_name=None,time_filter=None,partitionColumn=\"row_num\"):\n",
    "    \"\"\"\n",
    "    This is used to read gpdb with filter for columns and can apply other filter(date,values).\n",
    "    Time filter contains startdate,enddate\n",
    "    \"\"\"\n",
    "    gscPythonOptions = {\n",
    "                        \"url\": prod_url,\n",
    "                        \"user\": user_prod,\n",
    "                        \"password\": pwd_prod,\n",
    "                        \"dbschema\": dbschema,\n",
    "                        \"dbtable\": dbtable,\n",
    "                        \"partitionColumn\":partitionColumn,\n",
    "                        \"partitions\": 8,\n",
    "                        \"server.port\":\"1150-1170\"}\n",
    "   \n",
    "    if time_filter:\n",
    "        data = sqlContext.read.format(\"greenplum\").options(**gscPythonOptions).load()\\\n",
    "                .select(col_str).drop_duplicates().filter(col(col_name).between(to_timestamp(lit(time_filter['start_date']),\n",
    "                                                                 format='yyyy-MM-dd'),\n",
    "                                                    to_timestamp(lit(time_filter['end_date']),\n",
    "                                                                 format='yyyy-MM-dd')))\n",
    "    else :\n",
    "        data = sqlContext.read.format(\"greenplum\").options(**gscPythonOptions).load()\\\n",
    "                .select(col_str).drop_duplicates()\n",
    "   \n",
    "    return data"
   ]
  },
  {
   "cell_type": "code",
   "execution_count": 5,
   "metadata": {},
   "outputs": [
    {
     "data": {
      "application/vnd.jupyter.widget-view+json": {
       "model_id": "",
       "version_major": 2,
       "version_minor": 0
      },
      "text/plain": [
       "FloatProgress(value=0.0, bar_style='info', description='Progress:', layout=Layout(height='25px', width='50%'),…"
      ]
     },
     "metadata": {},
     "output_type": "display_data"
    }
   ],
   "source": [
    "def get_latest_progress():\n",
    "    \n",
    "    try: \n",
    "        gscPythonOptions = {\n",
    "                 \"url\":prod_url ,\n",
    "                 \"user\":user_prod ,\n",
    "                 \"password\": pwd_prod,\n",
    "                 \"dbschema\":\"customermart\",\n",
    "                 \"dbtable\": \"progress\",#table change\n",
    "                 \"server.port\":\"1150-1170\"} \n",
    "        \n",
    "        # this query will fetch till what date we have inserted the records in target\n",
    "        last_run= sqlContext.read.format(\"greenplum\").options(**gscPythonOptions).load()\\\n",
    "            .select('table_name','source','to_datetime').filter(col('table_name')=='customer_activity')\\\n",
    "            .filter(col('source')=='activity8')\n",
    "        \n",
    "        Max_last_run =last_run.select(max('to_datetime')).first()[0]\n",
    "\n",
    "\n",
    "        # if no record is available in progress then it will raise value error, in this case default value will be picked from except clause\n",
    "        if Max_last_run is None:\n",
    "            raise ValueError(\"No records found!\")\n",
    "\n",
    "        #print(\"Record Found. Progress updated till {}\".format(Max_last_run))\n",
    "\n",
    "    except Exception as E: \n",
    "        Max_last_run = datetime.datetime(2017, 11, 27, 0, 0)  # this is the default start date when no record is present in progress for customer_demographics table\n",
    "        print(\"Executed_except\",repr(E))\n",
    "    return Max_last_run"
   ]
  },
  {
   "cell_type": "code",
   "execution_count": 6,
   "metadata": {},
   "outputs": [
    {
     "data": {
      "application/vnd.jupyter.widget-view+json": {
       "model_id": "",
       "version_major": 2,
       "version_minor": 0
      },
      "text/plain": [
       "FloatProgress(value=0.0, bar_style='info', description='Progress:', layout=Layout(height='25px', width='50%'),…"
      ]
     },
     "metadata": {},
     "output_type": "display_data"
    }
   ],
   "source": [
    "# Generic function to save the progress from last run into Progress table\n",
    "def update_progress(table_name,source,time_filter,records,start_time,starttime,status):\n",
    "    output_index = \"progress\"\n",
    "    schema = \"customermart\"\n",
    "\n",
    "\n",
    "    import sys\n",
    "    import time\n",
    "    try:\n",
    "        \n",
    "                \n",
    "\n",
    "\n",
    "        df_progress= sqlContext.createDataFrame([(table_name,source,\n",
    "                                       time_filter['start_date'].strftime(\"%Y-%m-%d %H:%M:%S\"),\n",
    "                                         time_filter['end_date'].strftime(\"%Y-%m-%d %H:%M:%S\"),records)]\n",
    "                                     ,['table_name', 'source','from_datetime','to_datetime','records'])\\\n",
    "        .withColumn('start_time',lit(start_time)).withColumn('end_time',current_timestamp())\\\n",
    "                    .withColumn('executed_in_mins',lit((time.time() - starttime)/60))\\\n",
    "                                .withColumn('status',lit(status)).withColumn('remarks',lit(None))\n",
    "        \n",
    "\n",
    "        \n",
    "        df_progress.write.format(\"greenplum\")\\\n",
    "            .option(\"dbtable\",output_index).option('dbschema',schema)\\\n",
    "            .option(\"server.port\",\"1150-1170\").option(\"url\",prod_url)\\\n",
    "            .option(\"user\", user_prod).option(\"password\",pwd_prod).mode('append').save()\n",
    "        \n",
    "       \n",
    "    except Exception as e:\n",
    "        x = e\n",
    "        print(x)\n",
    "    else:\n",
    "        x = 'success'\n",
    "        print(\"Updated Progress for {table_name} from {source} until {to_datetime}. {records} records processed in this run\".format(table_name=table_name, source=source,to_datetime=time_filter['end_date'].strftime(\"%Y-%m-%d %H:%M:%S\"),records=records))\n",
    "        print(x)"
   ]
  },
  {
   "cell_type": "code",
   "execution_count": 7,
   "metadata": {},
   "outputs": [
    {
     "data": {
      "application/vnd.jupyter.widget-view+json": {
       "model_id": "",
       "version_major": 2,
       "version_minor": 0
      },
      "text/plain": [
       "FloatProgress(value=0.0, bar_style='info', description='Progress:', layout=Layout(height='25px', width='50%'),…"
      ]
     },
     "metadata": {},
     "output_type": "display_data"
    }
   ],
   "source": [
    "# Define the Generic update function which takes the records currently in temp table (created with prefix 1 to original customercoe table)\n",
    "# The function would first try to insert the records in original table. It that fails then it will upsert the records\n",
    "# Since there is no direct upsert query an update and insert query with where clause is used\n",
    "# This funciton just runs the SQL queries in GPDB and does not use spark\n",
    "def update_activity(conn_to,table_name,source,gpdb_spark_options = prod_gpdb_spark_options,\n",
    "                  schema=\"customermart\"):\n",
    "    conn_to.rollback()\n",
    "    primary_key = ['source_system_name','source_system_customer_id','activity_type','activity_id','commit_timestamp']\n",
    "    update_fields = ['feature_string_1','feature_date_1']\n",
    "    df_1 = sqlContext.read.format(\"greenplum\").options(**gpdb_spark_options).option(\"dbschema\",schema).option(\"dbtable\",\"{}_8_staging\".format(table_name)).load()\n",
    "    out_columns = df_1.columns\n",
    "    out_columns = [col for col in out_columns if \"json\" not in col]\n",
    "\n",
    "    cur_to = conn_to.cursor()  \n",
    "\n",
    "    only_insert_query = \"\"\"insert into {schema}.{table_name} ({out_columns}) select {out_columns} from {schema}.{table_name}_8_staging \"\"\".format(schema=schema,table_name=table_name,out_columns = \",\".join(out_columns))\n",
    "    update_query = \"\"\"UPDATE {schema}.{table_name} orig\n",
    "                          SET\n",
    "                            {update_fields}\n",
    "                          FROM\n",
    "                            {schema}.{table_name}_8_staging temp\n",
    "                           WHERE \n",
    "                            {primary_key}\n",
    "                       \"\"\".format(schema=schema,table_name=table_name,primary_key= \" and \".join([ \"orig.{key} = temp.{key}\".format(key=key) for key in primary_key]),update_fields = \" , \".join([ \"{key} = temp.{key}\".format(key=key) for key in update_fields]))\n",
    "    insert_query = \"\"\" INSERT INTO {schema}.{table_name} ({out_columns})\n",
    "                           SELECT {out_columns}\n",
    "                           FROM\n",
    "                             {schema}.{table_name}_8_staging temp\n",
    "                           WHERE\n",
    "                             NOT EXISTS (\n",
    "                             SELECT 1 FROM {schema}.{table_name} orig WHERE \n",
    "                            {primary_key}\n",
    "                            )\n",
    "                        \"\"\".format(schema=schema,table_name=table_name,out_columns = \",\".join(out_columns),primary_key = \" and \".join([ \"orig.{key} = temp.{key}\".format(key=key) for key in primary_key]))\n",
    "\n",
    "    try:\n",
    "        print(\"Inside try segment\")\n",
    "        cur_to.execute(only_insert_query)\n",
    "        print(\"Executed Only insert query\")\n",
    "#         update_progress(table_name,source,time_filter,records)\n",
    "    except Exception as e:\n",
    "        print(\"Inside except segment\")\n",
    "        conn_to.rollback()\n",
    "        cur_to.execute(update_query)\n",
    "        print(\"Executed update query\")\n",
    "        cur_to.execute(insert_query)\n",
    "        print(\"Executed insert query\")\n",
    "#         update_progress(table_name,source,time_filter,records)\n",
    "    conn_to.commit()"
   ]
  },
  {
   "cell_type": "code",
   "execution_count": 8,
   "metadata": {},
   "outputs": [
    {
     "data": {
      "application/vnd.jupyter.widget-view+json": {
       "model_id": "",
       "version_major": 2,
       "version_minor": 0
      },
      "text/plain": [
       "FloatProgress(value=0.0, bar_style='info', description='Progress:', layout=Layout(height='25px', width='50%'),…"
      ]
     },
     "metadata": {},
     "output_type": "display_data"
    },
    {
     "name": "stdout",
     "output_type": "stream",
     "text": [
      "{'start_date': datetime.datetime(2022, 11, 30, 0, 0), 'end_date': datetime.datetime(2022, 12, 15, 0, 0)}"
     ]
    }
   ],
   "source": [
    "latest_progress=get_latest_progress()\n",
    "# dates in string format\n",
    "str_d1 = latest_progress.strftime(\"%Y-%m-%d\")\n",
    "str_d2 = datetime.datetime.now(pytz.timezone('Asia/Kolkata')).strftime(\"%Y-%m-%d\")\n",
    "\n",
    "# convert string to date object\n",
    "d1 = datetime.datetime.strptime(str_d1, \"%Y-%m-%d\")\n",
    "d2 = datetime.datetime.strptime(str_d2, \"%Y-%m-%d\")\n",
    "\n",
    "# difference between dates in timedelta\n",
    "delta = d2 - d1\n",
    "day=delta.days-2 #currently T-2 change 2 to 1 for T-1\n",
    "\n",
    "time_filter={'start_date':latest_progress,'end_date':latest_progress+datetime.timedelta(days=day)}\n",
    "time_filter"
   ]
  },
  {
   "cell_type": "code",
   "execution_count": 9,
   "metadata": {},
   "outputs": [
    {
     "data": {
      "application/vnd.jupyter.widget-view+json": {
       "model_id": "",
       "version_major": 2,
       "version_minor": 0
      },
      "text/plain": [
       "FloatProgress(value=0.0, bar_style='info', description='Progress:', layout=Layout(height='25px', width='50%'),…"
      ]
     },
     "metadata": {},
     "output_type": "display_data"
    }
   ],
   "source": [
    "col_str=[\"lead_serial_no\", \"parent_type\", \"policy_number\", \"date_entered\"]\n",
    "ocrm_leads=load_gpdb_jdbc(col_str,\"marketing_ocrm_leads\",\"date_entered\",time_filter).filter(col(\"lead_serial_no\").isNotNull())"
   ]
  },
  {
   "cell_type": "code",
   "execution_count": 10,
   "metadata": {},
   "outputs": [
    {
     "data": {
      "application/vnd.jupyter.widget-view+json": {
       "model_id": "",
       "version_major": 2,
       "version_minor": 0
      },
      "text/plain": [
       "FloatProgress(value=0.0, bar_style='info', description='Progress:', layout=Layout(height='25px', width='50%'),…"
      ]
     },
     "metadata": {},
     "output_type": "display_data"
    }
   ],
   "source": [
    "ocrm_leads=ocrm_leads.withColumn('activity_id', col('lead_serial_no'))\\\n",
    ".withColumn('commit_timestamp', col('date_entered'))\\\n",
    ".withColumn('feature_string_1', col('parent_type'))\\\n",
    ".withColumn('feature_date_1', col('date_entered'))"
   ]
  },
  {
   "cell_type": "code",
   "execution_count": 11,
   "metadata": {},
   "outputs": [
    {
     "data": {
      "application/vnd.jupyter.widget-view+json": {
       "model_id": "",
       "version_major": 2,
       "version_minor": 0
      },
      "text/plain": [
       "FloatProgress(value=0.0, bar_style='info', description='Progress:', layout=Layout(height='25px', width='50%'),…"
      ]
     },
     "metadata": {},
     "output_type": "display_data"
    },
    {
     "name": "stdout",
     "output_type": "stream",
     "text": [
      "['lead_serial_no', 'parent_type', 'policy_number', 'date_entered', 'activity_id', 'commit_timestamp', 'feature_string_1', 'feature_date_1']"
     ]
    }
   ],
   "source": [
    "ocrm_leads.columns"
   ]
  },
  {
   "cell_type": "code",
   "execution_count": 12,
   "metadata": {},
   "outputs": [
    {
     "data": {
      "application/vnd.jupyter.widget-view+json": {
       "model_id": "",
       "version_major": 2,
       "version_minor": 0
      },
      "text/plain": [
       "FloatProgress(value=0.0, bar_style='info', description='Progress:', layout=Layout(height='25px', width='50%'),…"
      ]
     },
     "metadata": {},
     "output_type": "display_data"
    },
    {
     "name": "stdout",
     "output_type": "stream",
     "text": [
      "['customer_id', 'policy_no']"
     ]
    }
   ],
   "source": [
    "gscPythonOptions = {\"url\": \"jdbc:postgresql://10.35.12.194:5432/gpadmin\",\n",
    "                    \"user\": \"gpspark\",\n",
    "                    \"password\": \"spark@456\",\n",
    "                    \"dbschema\": \"registers\",\n",
    "                    \"dbtable\": \"premium_register\",\n",
    "                    \"partitionColumn\":\"row_num\",\n",
    "                    \"partitions\": 8,\n",
    "                    \"server.port\": '1150-1170'}\n",
    "\n",
    "premium_register = sqlContext.read.format(\"greenplum\").options(**gscPythonOptions).load()\\\n",
    "                     .filter(col(\"customer_id\").isNotNull()).filter(col(\"policy_no\").isNotNull())\\\n",
    "                     .selectExpr(\"customer_id\", \"policy_no\")\n",
    "\n",
    "premium_register.columns"
   ]
  },
  {
   "cell_type": "code",
   "execution_count": 13,
   "metadata": {},
   "outputs": [
    {
     "data": {
      "application/vnd.jupyter.widget-view+json": {
       "model_id": "",
       "version_major": 2,
       "version_minor": 0
      },
      "text/plain": [
       "FloatProgress(value=0.0, bar_style='info', description='Progress:', layout=Layout(height='25px', width='50%'),…"
      ]
     },
     "metadata": {},
     "output_type": "display_data"
    }
   ],
   "source": [
    "premium_register=premium_register.withColumn('source_system_customer_id', col('customer_id'))"
   ]
  },
  {
   "cell_type": "code",
   "execution_count": 14,
   "metadata": {},
   "outputs": [
    {
     "data": {
      "application/vnd.jupyter.widget-view+json": {
       "model_id": "",
       "version_major": 2,
       "version_minor": 0
      },
      "text/plain": [
       "FloatProgress(value=0.0, bar_style='info', description='Progress:', layout=Layout(height='25px', width='50%'),…"
      ]
     },
     "metadata": {},
     "output_type": "display_data"
    }
   ],
   "source": [
    "df_main= ocrm_leads.join(premium_register, ocrm_leads.policy_number == premium_register.policy_no, \"left_outer\")"
   ]
  },
  {
   "cell_type": "code",
   "execution_count": 15,
   "metadata": {},
   "outputs": [
    {
     "data": {
      "application/vnd.jupyter.widget-view+json": {
       "model_id": "",
       "version_major": 2,
       "version_minor": 0
      },
      "text/plain": [
       "FloatProgress(value=0.0, bar_style='info', description='Progress:', layout=Layout(height='25px', width='50%'),…"
      ]
     },
     "metadata": {},
     "output_type": "display_data"
    }
   ],
   "source": [
    "df_main=df_main.filter(col(\"customer_id\").isNotNull()).filter(col(\"lead_serial_no\").isNotNull())"
   ]
  },
  {
   "cell_type": "code",
   "execution_count": 16,
   "metadata": {},
   "outputs": [
    {
     "data": {
      "application/vnd.jupyter.widget-view+json": {
       "model_id": "",
       "version_major": 2,
       "version_minor": 0
      },
      "text/plain": [
       "FloatProgress(value=0.0, bar_style='info', description='Progress:', layout=Layout(height='25px', width='50%'),…"
      ]
     },
     "metadata": {},
     "output_type": "display_data"
    }
   ],
   "source": [
    "df_main=df_main.withColumn('source_system_name', lit('OCRM'))\\\n",
    "                .withColumn('activity_type', lit('Outbound Call Service'))\\"
   ]
  },
  {
   "cell_type": "code",
   "execution_count": 17,
   "metadata": {},
   "outputs": [
    {
     "data": {
      "application/vnd.jupyter.widget-view+json": {
       "model_id": "",
       "version_major": 2,
       "version_minor": 0
      },
      "text/plain": [
       "FloatProgress(value=0.0, bar_style='info', description='Progress:', layout=Layout(height='25px', width='50%'),…"
      ]
     },
     "metadata": {},
     "output_type": "display_data"
    },
    {
     "name": "stdout",
     "output_type": "stream",
     "text": [
      "DataFrame[lead_serial_no: string, parent_type: string, policy_number: string, date_entered: timestamp, activity_id: string, commit_timestamp: timestamp, feature_string_1: string, feature_date_1: timestamp, customer_id: string, policy_no: string, source_system_customer_id: string, source_system_name: string, activity_type: string, row_num: int]"
     ]
    }
   ],
   "source": [
    "from pyspark.sql import functions as F\n",
    "from pyspark.sql.window import Window\n",
    "\n",
    "w1 = Window.partitionBy('source_system_customer_id','activity_id').orderBy(F.col('commit_timestamp').desc())\n",
    "df_main = df_main.withColumn('row_num',F.row_number().over(w1))\n",
    "df_main = df_main.filter('row_num == 1')\n",
    "df_main.filter(col(\"source_system_customer_id\").isNotNull())"
   ]
  },
  {
   "cell_type": "code",
   "execution_count": 18,
   "metadata": {},
   "outputs": [
    {
     "data": {
      "application/vnd.jupyter.widget-view+json": {
       "model_id": "",
       "version_major": 2,
       "version_minor": 0
      },
      "text/plain": [
       "FloatProgress(value=0.0, bar_style='info', description='Progress:', layout=Layout(height='25px', width='50%'),…"
      ]
     },
     "metadata": {},
     "output_type": "display_data"
    }
   ],
   "source": [
    "df_main=df_main.select(col('source_system_name').cast('string'),col('source_system_customer_id').cast('string')\n",
    "                           ,col('activity_type').cast('string'),col('activity_id').cast('string'),\n",
    "                           col('feature_string_1').cast('string'),col('feature_date_1').cast(DateType()),col('commit_timestamp').cast('timestamp'))"
   ]
  },
  {
   "cell_type": "code",
   "execution_count": 19,
   "metadata": {},
   "outputs": [
    {
     "data": {
      "application/vnd.jupyter.widget-view+json": {
       "model_id": "",
       "version_major": 2,
       "version_minor": 0
      },
      "text/plain": [
       "FloatProgress(value=0.0, bar_style='info', description='Progress:', layout=Layout(height='25px', width='50%'),…"
      ]
     },
     "metadata": {},
     "output_type": "display_data"
    },
    {
     "name": "stdout",
     "output_type": "stream",
     "text": [
      "DataFrame[source_system_name: string, source_system_customer_id: string, activity_type: string, activity_id: string, feature_string_1: string, feature_date_1: date, commit_timestamp: timestamp]"
     ]
    }
   ],
   "source": [
    "df_main.persist(pyspark.StorageLevel.MEMORY_AND_DISK)"
   ]
  },
  {
   "cell_type": "code",
   "execution_count": 20,
   "metadata": {},
   "outputs": [
    {
     "data": {
      "application/vnd.jupyter.widget-view+json": {
       "model_id": "",
       "version_major": 2,
       "version_minor": 0
      },
      "text/plain": [
       "FloatProgress(value=0.0, bar_style='info', description='Progress:', layout=Layout(height='25px', width='50%'),…"
      ]
     },
     "metadata": {},
     "output_type": "display_data"
    },
    {
     "name": "stdout",
     "output_type": "stream",
     "text": [
      "8162"
     ]
    }
   ],
   "source": [
    "records=df_main.count()\n",
    "records"
   ]
  },
  {
   "cell_type": "code",
   "execution_count": 21,
   "metadata": {},
   "outputs": [
    {
     "data": {
      "application/vnd.jupyter.widget-view+json": {
       "model_id": "",
       "version_major": 2,
       "version_minor": 0
      },
      "text/plain": [
       "FloatProgress(value=0.0, bar_style='info', description='Progress:', layout=Layout(height='25px', width='50%'),…"
      ]
     },
     "metadata": {},
     "output_type": "display_data"
    },
    {
     "name": "stdout",
     "output_type": "stream",
     "text": [
      "200"
     ]
    }
   ],
   "source": [
    "output_index = \"customer_activity_8_staging\"\n",
    "schema = \"customermart\"\n",
    "\n",
    "import sys\n",
    "try:\n",
    "    \n",
    "    df_main.write.format(\"greenplum\")\\\n",
    "    .option(\"dbtable\",output_index).option('dbschema',schema)\\\n",
    "    .option(\"server.port\",\"1150-1170\").option(\"url\",prod_url)\\\n",
    "    .option(\"user\", user_prod).option(\"password\",pwd_prod).mode('overwrite').save()\n",
    "    \n",
    "    \n",
    "except Exception as e:\n",
    "    x = e\n",
    "    print(x)\n",
    "else:\n",
    "    x = 200 #success\n",
    "    print(x)"
   ]
  },
  {
   "cell_type": "code",
   "execution_count": 22,
   "metadata": {},
   "outputs": [
    {
     "data": {
      "application/vnd.jupyter.widget-view+json": {
       "model_id": "",
       "version_major": 2,
       "version_minor": 0
      },
      "text/plain": [
       "FloatProgress(value=0.0, bar_style='info', description='Progress:', layout=Layout(height='25px', width='50%'),…"
      ]
     },
     "metadata": {},
     "output_type": "display_data"
    }
   ],
   "source": [
    "table_name='customer_activity'\n",
    "source='activity8'\n",
    "conn_prod = psycopg2.connect(host=prod_host, port=prod_port, user=user_prod, password=pwd_prod, dbname=prod_dbname)\n",
    "conn_to=conn_prod"
   ]
  },
  {
   "cell_type": "code",
   "execution_count": 23,
   "metadata": {},
   "outputs": [
    {
     "data": {
      "application/vnd.jupyter.widget-view+json": {
       "model_id": "",
       "version_major": 2,
       "version_minor": 0
      },
      "text/plain": [
       "FloatProgress(value=0.0, bar_style='info', description='Progress:', layout=Layout(height='25px', width='50%'),…"
      ]
     },
     "metadata": {},
     "output_type": "display_data"
    },
    {
     "name": "stdout",
     "output_type": "stream",
     "text": [
      "Inside try segment\n",
      "Inside except segment\n",
      "Executed update query\n",
      "Executed insert query"
     ]
    }
   ],
   "source": [
    " update_activity(conn_to,table_name,source,prod_gpdb_spark_options, schema=\"customermart\")"
   ]
  },
  {
   "cell_type": "code",
   "execution_count": 24,
   "metadata": {},
   "outputs": [
    {
     "data": {
      "application/vnd.jupyter.widget-view+json": {
       "model_id": "",
       "version_major": 2,
       "version_minor": 0
      },
      "text/plain": [
       "FloatProgress(value=0.0, bar_style='info', description='Progress:', layout=Layout(height='25px', width='50%'),…"
      ]
     },
     "metadata": {},
     "output_type": "display_data"
    }
   ],
   "source": [
    "gscPythonOptions = {\n",
    "         \"url\": prod_url,\n",
    "         \"user\": user_prod,\n",
    "         \"password\": pwd_prod,\n",
    "         \"dbtable\": \"customermart.customer_activity\",\n",
    "         \"server.port\":\"1150-1170\"}\n",
    "\n",
    "\n",
    "activity8_df = sqlContext.read.format(\"jdbc\").options(**gscPythonOptions).load()\\\n",
    ".select('source_system_name', 'source_system_customer_id', 'activity_type', 'activity_id', 'feature_value_1', 'feature_value_2', 'feature_string_1', 'feature_string_2', 'feature_string_3', 'feature_string_4', 'feature_date_1', 'commit_timestamp')\\\n",
    ".filter(col('activity_type')=='Outbound Call Service')\\\n",
    ".filter(col('commit_timestamp').between(to_timestamp(lit(time_filter['start_date']),\n",
    "                                                                 format='yyyy-MM-dd'),\n",
    "                                                    to_timestamp(lit(time_filter['end_date']),\n",
    "                                                                 format='yyyy-MM-dd'))).dropDuplicates()"
   ]
  },
  {
   "cell_type": "code",
   "execution_count": 25,
   "metadata": {},
   "outputs": [
    {
     "data": {
      "application/vnd.jupyter.widget-view+json": {
       "model_id": "",
       "version_major": 2,
       "version_minor": 0
      },
      "text/plain": [
       "FloatProgress(value=0.0, bar_style='info', description='Progress:', layout=Layout(height='25px', width='50%'),…"
      ]
     },
     "metadata": {},
     "output_type": "display_data"
    }
   ],
   "source": [
    "SrcGCIDCount=str(df_main.select(countDistinct(\"source_system_customer_id\")).collect()[0][0])"
   ]
  },
  {
   "cell_type": "code",
   "execution_count": 26,
   "metadata": {},
   "outputs": [
    {
     "data": {
      "application/vnd.jupyter.widget-view+json": {
       "model_id": "",
       "version_major": 2,
       "version_minor": 0
      },
      "text/plain": [
       "FloatProgress(value=0.0, bar_style='info', description='Progress:', layout=Layout(height='25px', width='50%'),…"
      ]
     },
     "metadata": {},
     "output_type": "display_data"
    }
   ],
   "source": [
    "from pg import DB\n",
    "db = DB(dbname=\"gpadmin\", user='gpspark', passwd='spark@456', host='10.35.12.194', port= 5432)\n",
    "GCidCount = db.query(\"select count(distinct source_system_customer_id) from customermart.customer_activity_8_staging\").getresult()"
   ]
  },
  {
   "cell_type": "code",
   "execution_count": 27,
   "metadata": {},
   "outputs": [
    {
     "data": {
      "application/vnd.jupyter.widget-view+json": {
       "model_id": "",
       "version_major": 2,
       "version_minor": 0
      },
      "text/plain": [
       "FloatProgress(value=0.0, bar_style='info', description='Progress:', layout=Layout(height='25px', width='50%'),…"
      ]
     },
     "metadata": {},
     "output_type": "display_data"
    }
   ],
   "source": [
    "df_stag=df_main.select(['source_system_name','source_system_customer_id','activity_type','activity_id','commit_timestamp', 'feature_string_1','feature_date_1'])"
   ]
  },
  {
   "cell_type": "code",
   "execution_count": 28,
   "metadata": {},
   "outputs": [
    {
     "data": {
      "application/vnd.jupyter.widget-view+json": {
       "model_id": "",
       "version_major": 2,
       "version_minor": 0
      },
      "text/plain": [
       "FloatProgress(value=0.0, bar_style='info', description='Progress:', layout=Layout(height='25px', width='50%'),…"
      ]
     },
     "metadata": {},
     "output_type": "display_data"
    }
   ],
   "source": [
    "activity8_df1=activity8_df.select(['source_system_name','source_system_customer_id','activity_type','activity_id','commit_timestamp', 'feature_string_1','feature_date_1'])"
   ]
  },
  {
   "cell_type": "code",
   "execution_count": 29,
   "metadata": {},
   "outputs": [
    {
     "data": {
      "application/vnd.jupyter.widget-view+json": {
       "model_id": "",
       "version_major": 2,
       "version_minor": 0
      },
      "text/plain": [
       "FloatProgress(value=0.0, bar_style='info', description='Progress:', layout=Layout(height='25px', width='50%'),…"
      ]
     },
     "metadata": {},
     "output_type": "display_data"
    }
   ],
   "source": [
    "df_MissingData=df_stag.exceptAll(activity8_df1).withColumn('DataMisMatch',lit('Missing values at Target'))"
   ]
  },
  {
   "cell_type": "code",
   "execution_count": 30,
   "metadata": {},
   "outputs": [
    {
     "data": {
      "application/vnd.jupyter.widget-view+json": {
       "model_id": "",
       "version_major": 2,
       "version_minor": 0
      },
      "text/plain": [
       "FloatProgress(value=0.0, bar_style='info', description='Progress:', layout=Layout(height='25px', width='50%'),…"
      ]
     },
     "metadata": {},
     "output_type": "display_data"
    }
   ],
   "source": [
    "reconresult=[{\n",
    "    \"SrcCount\":SrcGCIDCount,\n",
    "    \"TargetCount\":GCidCount[0][0],\n",
    "    \"TrgtMissMatchCount\":df_MissingData.count()\n",
    "}]\n",
    "\n",
    "from pyspark.sql import Row\n",
    "df_recon=sqlContext.createDataFrame(Row(**x) for x in reconresult)"
   ]
  },
  {
   "cell_type": "code",
   "execution_count": 31,
   "metadata": {},
   "outputs": [
    {
     "data": {
      "application/vnd.jupyter.widget-view+json": {
       "model_id": "",
       "version_major": 2,
       "version_minor": 0
      },
      "text/plain": [
       "FloatProgress(value=0.0, bar_style='info', description='Progress:', layout=Layout(height='25px', width='50%'),…"
      ]
     },
     "metadata": {},
     "output_type": "display_data"
    }
   ],
   "source": [
    "df_recon=df_recon.withColumn('Status',when((df_recon.SrcCount==df_recon.TargetCount) & (df_recon.TrgtMissMatchCount==0),'Success').otherwise('Failed'))\n",
    "status=df_recon.select(df_recon.Status).collect()[0][0]"
   ]
  },
  {
   "cell_type": "code",
   "execution_count": 32,
   "metadata": {},
   "outputs": [
    {
     "data": {
      "application/vnd.jupyter.widget-view+json": {
       "model_id": "",
       "version_major": 2,
       "version_minor": 0
      },
      "text/plain": [
       "FloatProgress(value=0.0, bar_style='info', description='Progress:', layout=Layout(height='25px', width='50%'),…"
      ]
     },
     "metadata": {},
     "output_type": "display_data"
    },
    {
     "name": "stdout",
     "output_type": "stream",
     "text": [
      "+--------+-----------+------------------+-------+\n",
      "|SrcCount|TargetCount|TrgtMissMatchCount| Status|\n",
      "+--------+-----------+------------------+-------+\n",
      "|    8150|       8150|                 0|Success|\n",
      "+--------+-----------+------------------+-------+"
     ]
    }
   ],
   "source": [
    "df_recon.show()"
   ]
  },
  {
   "cell_type": "code",
   "execution_count": null,
   "metadata": {
    "scrolled": true
   },
   "outputs": [],
   "source": [
    "update_progress(table_name,source,time_filter,records,start_time,starttime,status)"
   ]
  },
  {
   "cell_type": "code",
   "execution_count": null,
   "metadata": {},
   "outputs": [],
   "source": [
    "df_main.unpersist()"
   ]
  },
  {
   "cell_type": "code",
   "execution_count": null,
   "metadata": {},
   "outputs": [],
   "source": [
    "spark.stop()"
   ]
  },
  {
   "cell_type": "code",
   "execution_count": null,
   "metadata": {},
   "outputs": [],
   "source": []
  }
 ],
 "metadata": {
  "kernelspec": {
   "display_name": "PySpark",
   "language": "",
   "name": "pysparkkernel"
  },
  "language_info": {
   "codemirror_mode": {
    "name": "python",
    "version": 3
   },
   "mimetype": "text/x-python",
   "name": "pyspark",
   "pygments_lexer": "python3"
  }
 },
 "nbformat": 4,
 "nbformat_minor": 2
}
